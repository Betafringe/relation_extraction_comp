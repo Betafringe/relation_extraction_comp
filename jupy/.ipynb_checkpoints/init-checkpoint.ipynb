{
 "cells": [
  {
   "cell_type": "code",
   "execution_count": 1,
   "metadata": {},
   "outputs": [],
   "source": [
    "import json\n",
    "import pandas as pd\n",
    "import numpy"
   ]
  },
  {
   "cell_type": "code",
   "execution_count": 29,
   "metadata": {},
   "outputs": [],
   "source": [
    "path = \"../../data/train_data.json\"\n",
    "savepath = '../../data/'"
   ]
  },
  {
   "cell_type": "code",
   "execution_count": 3,
   "metadata": {},
   "outputs": [],
   "source": [
    "texts = []\n",
    "fr = open(path, 'r')\n",
    "for line in fr.readlines():\n",
    "    dic = json.loads(line)\n",
    "    texts.append(dic)\n",
    "fr.close()"
   ]
  },
  {
   "cell_type": "code",
   "execution_count": 4,
   "metadata": {},
   "outputs": [
    {
     "data": {
      "text/plain": [
       "{'postag': [{'word': '如何', 'pos': 'r'},\n",
       "  {'word': '演', 'pos': 'v'},\n",
       "  {'word': '好', 'pos': 'a'},\n",
       "  {'word': '自己', 'pos': 'r'},\n",
       "  {'word': '的', 'pos': 'u'},\n",
       "  {'word': '角色', 'pos': 'n'},\n",
       "  {'word': '，', 'pos': 'w'},\n",
       "  {'word': '请', 'pos': 'v'},\n",
       "  {'word': '读', 'pos': 'v'},\n",
       "  {'word': '《', 'pos': 'w'},\n",
       "  {'word': '演员自我修养', 'pos': 'nw'},\n",
       "  {'word': '》', 'pos': 'w'},\n",
       "  {'word': '《', 'pos': 'w'},\n",
       "  {'word': '喜剧之王', 'pos': 'nw'},\n",
       "  {'word': '》', 'pos': 'w'},\n",
       "  {'word': '周星驰', 'pos': 'nr'},\n",
       "  {'word': '崛起', 'pos': 'v'},\n",
       "  {'word': '于', 'pos': 'p'},\n",
       "  {'word': '穷困潦倒', 'pos': 'a'},\n",
       "  {'word': '之中', 'pos': 'f'},\n",
       "  {'word': '的', 'pos': 'u'},\n",
       "  {'word': '独门', 'pos': 'n'},\n",
       "  {'word': '秘笈', 'pos': 'n'}],\n",
       " 'text': '如何演好自己的角色，请读《演员自我修养》《喜剧之王》周星驰崛起于穷困潦倒之中的独门秘笈',\n",
       " 'spo_list': [{'predicate': '主演',\n",
       "   'object_type': '人物',\n",
       "   'subject_type': '影视作品',\n",
       "   'object': '周星驰',\n",
       "   'subject': '喜剧之王'}]}"
      ]
     },
     "execution_count": 4,
     "metadata": {},
     "output_type": "execute_result"
    }
   ],
   "source": [
    "texts[0]"
   ]
  },
  {
   "cell_type": "code",
   "execution_count": 91,
   "metadata": {},
   "outputs": [
    {
     "name": "stdout",
     "output_type": "stream",
     "text": [
      "如何 演 好 自己 的 角色 ， 请 读 《 演员自我修养 》 《 喜剧之王 》 周星驰 崛起 于 穷困潦倒 之中 的 独门 秘笈\n",
      "茶树茶网蝽 ， Stephanitis chinensis Drake ， 属 半翅目 网蝽科冠网椿属 的 一种 昆虫\n",
      "丝角蝗科 ， Oedipodidae ， 昆虫纲直翅目蝗总科 的 一个科\n"
     ]
    }
   ],
   "source": [
    "seg_texts = []\n",
    "space = ' '\n",
    "for sentence in texts:\n",
    "    wordslist = sentence['postag']\n",
    "    sent = []\n",
    "    for word in wordslist:\n",
    "        sent.append(word['word'])\n",
    "    t = space.join(sent)\n",
    "    seg_texts.append(t)"
   ]
  },
  {
   "cell_type": "code",
   "execution_count": 84,
   "metadata": {},
   "outputs": [
    {
     "data": {
      "text/plain": [
       "'丝角蝗科 ， Oedipodidae ， 昆虫纲直翅目蝗总科 的 一个科'"
      ]
     },
     "execution_count": 84,
     "metadata": {},
     "output_type": "execute_result"
    }
   ],
   "source": [
    "t"
   ]
  },
  {
   "cell_type": "code",
   "execution_count": 53,
   "metadata": {},
   "outputs": [
    {
     "data": {
      "text/plain": [
       "list"
      ]
     },
     "execution_count": 53,
     "metadata": {},
     "output_type": "execute_result"
    }
   ],
   "source": [
    "type"
   ]
  },
  {
   "cell_type": "code",
   "execution_count": 31,
   "metadata": {},
   "outputs": [
    {
     "ename": "SyntaxError",
     "evalue": "invalid syntax (<ipython-input-31-97c37536239f>, line 6)",
     "output_type": "error",
     "traceback": [
      "\u001b[0;36m  File \u001b[0;32m\"<ipython-input-31-97c37536239f>\"\u001b[0;36m, line \u001b[0;32m6\u001b[0m\n\u001b[0;31m    fw.write('\\n')\u001b[0m\n\u001b[0m     ^\u001b[0m\n\u001b[0;31mSyntaxError\u001b[0m\u001b[0;31m:\u001b[0m invalid syntax\n"
     ]
    }
   ],
   "source": [
    "with open(savepath+'seg_txt'+'.txt' , 'a') as fw:\n",
    "    for sentence in seg_texts:\n",
    "        for word in sentence:\n",
    "            word = word + ' '\n",
    "            fw.write(str(word)"
   ]
  },
  {
   "cell_type": "code",
   "execution_count": 17,
   "metadata": {},
   "outputs": [
    {
     "name": "stdout",
     "output_type": "stream",
     "text": [
      "[{'word': '《', 'pos': 'w'}, {'word': '宝贝', 'pos': 'nw'}, {'word': '》', 'pos': 'w'}, {'word': '张悬', 'pos': 'nr'}, {'word': '这首歌', 'pos': 'r'}, {'word': '也是', 'pos': 'v'}, {'word': '小暖', 'pos': 'nr'}, {'word': '自己', 'pos': 'r'}, {'word': '从', 'pos': 'p'}, {'word': '孕期', 'pos': 'n'}, {'word': '就', 'pos': 'd'}, {'word': '开始', 'pos': 'v'}, {'word': '一直', 'pos': 'd'}, {'word': '循环', 'pos': 'vd'}, {'word': '听', 'pos': 'v'}, {'word': '的', 'pos': 'u'}, {'word': '，', 'pos': 'w'}, {'word': '俏皮', 'pos': 'a'}, {'word': '好听', 'pos': 'a'}]\n"
     ]
    }
   ],
   "source": [
    "print(dic['postag'])"
   ]
  },
  {
   "cell_type": "code",
   "execution_count": null,
   "metadata": {},
   "outputs": [],
   "source": []
  }
 ],
 "metadata": {
  "kernelspec": {
   "display_name": "Python 3",
   "language": "python",
   "name": "python3"
  },
  "language_info": {
   "codemirror_mode": {
    "name": "ipython",
    "version": 3
   },
   "file_extension": ".py",
   "mimetype": "text/x-python",
   "name": "python",
   "nbconvert_exporter": "python",
   "pygments_lexer": "ipython3",
   "version": "3.6.5"
  }
 },
 "nbformat": 4,
 "nbformat_minor": 2
}
