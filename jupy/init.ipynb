{
 "cells": [
  {
   "cell_type": "code",
   "execution_count": 1,
   "metadata": {},
   "outputs": [],
   "source": [
    "import json\n",
    "import pandas as pd\n",
    "import numpy"
   ]
  },
  {
   "cell_type": "code",
   "execution_count": 2,
   "metadata": {},
   "outputs": [],
   "source": [
    "path = \"../../data/train_data.json\"\n",
    "savepath = '../../data/'"
   ]
  },
  {
   "cell_type": "code",
   "execution_count": 3,
   "metadata": {},
   "outputs": [],
   "source": [
    "texts = []\n",
    "fr = open(path, 'r', encoding='utf-8')\n",
    "for line in fr.readlines():\n",
    "    dic = json.loads(line)\n",
    "    texts.append(dic)\n",
    "fr.close()"
   ]
  },
  {
   "cell_type": "code",
   "execution_count": 4,
   "metadata": {},
   "outputs": [
    {
     "data": {
      "text/plain": [
       "173109"
      ]
     },
     "execution_count": 4,
     "metadata": {},
     "output_type": "execute_result"
    }
   ],
   "source": [
    "len(texts)"
   ]
  },
  {
   "cell_type": "code",
   "execution_count": 9,
   "metadata": {},
   "outputs": [
    {
     "data": {
      "text/plain": [
       "[{'word': '如何', 'pos': 'r'},\n",
       " {'word': '演', 'pos': 'v'},\n",
       " {'word': '好', 'pos': 'a'},\n",
       " {'word': '自己', 'pos': 'r'},\n",
       " {'word': '的', 'pos': 'u'},\n",
       " {'word': '角色', 'pos': 'n'},\n",
       " {'word': '，', 'pos': 'w'},\n",
       " {'word': '请', 'pos': 'v'},\n",
       " {'word': '读', 'pos': 'v'},\n",
       " {'word': '《', 'pos': 'w'},\n",
       " {'word': '演员自我修养', 'pos': 'nw'},\n",
       " {'word': '》', 'pos': 'w'},\n",
       " {'word': '《', 'pos': 'w'},\n",
       " {'word': '喜剧之王', 'pos': 'nw'},\n",
       " {'word': '》', 'pos': 'w'},\n",
       " {'word': '周星驰', 'pos': 'nr'},\n",
       " {'word': '崛起', 'pos': 'v'},\n",
       " {'word': '于', 'pos': 'p'},\n",
       " {'word': '穷困潦倒', 'pos': 'a'},\n",
       " {'word': '之中', 'pos': 'f'},\n",
       " {'word': '的', 'pos': 'u'},\n",
       " {'word': '独门', 'pos': 'n'},\n",
       " {'word': '秘笈', 'pos': 'n'}]"
      ]
     },
     "execution_count": 9,
     "metadata": {},
     "output_type": "execute_result"
    }
   ],
   "source": [
    "texts[0]['postag']"
   ]
  },
  {
   "cell_type": "code",
   "execution_count": 4,
   "metadata": {},
   "outputs": [],
   "source": [
    "seg_texts = []\n",
    "space = ' '\n",
    "for sentence in texts:\n",
    "    wordslist = sentence['postag']\n",
    "    sent = []\n",
    "    for word in wordslist:\n",
    "        sent.append(word['word'])\n",
    "    t = space.join(sent)\n",
    "    seg_texts.append(t)"
   ]
  },
  {
   "cell_type": "code",
   "execution_count": 6,
   "metadata": {},
   "outputs": [],
   "source": [
    "with open(savepath+'seg_txt'+'.txt' , 'a') as fw:\n",
    "    for sentence in seg_texts:\n",
    "        fw.write(str(sentence))\n",
    "        fw.write('\\n')"
   ]
  },
  {
   "cell_type": "code",
   "execution_count": 12,
   "metadata": {},
   "outputs": [],
   "source": [
    "import gensim\n",
    "from gensim.models import word2vec\n",
    "import os\n",
    "class MySentences(object):\n",
    "    def __init__(self, dirname):\n",
    "        self.dirname = dirname\n",
    " \n",
    "    def __iter__(self):\n",
    "        for line in open(self.dirname):\n",
    "            yield line.split()\n",
    "sentences = MySentences(dirname=savepath+'seg_txt'+'.txt')\n",
    "model = gensim.models.Word2Vec(sentences,workers=4, min_count=2, size=300)\n",
    "model.save(savepath + 'word2vec.{}d.mfreq{}.model'.format(300, 2))"
   ]
  },
  {
   "cell_type": "code",
   "execution_count": 15,
   "metadata": {},
   "outputs": [
    {
     "name": "stderr",
     "output_type": "stream",
     "text": [
      "/anaconda3/lib/python3.6/site-packages/ipykernel_launcher.py:1: DeprecationWarning: Call to deprecated `most_similar` (Method will be removed in 4.0.0, use self.wv.most_similar() instead).\n",
      "  \"\"\"Entry point for launching an IPython kernel.\n"
     ]
    },
    {
     "data": {
      "text/plain": [
       "[('觉得', 0.961923360824585),\n",
       " ('呢', 0.9407889246940613),\n",
       " ('看着', 0.9372373819351196),\n",
       " ('毕竟', 0.9352966547012329),\n",
       " ('吧', 0.9349852800369263)]"
      ]
     },
     "execution_count": 15,
     "metadata": {},
     "output_type": "execute_result"
    }
   ],
   "source": [
    "model.most_similar(positive='不知道', topn=5)"
   ]
  },
  {
   "cell_type": "code",
   "execution_count": null,
   "metadata": {},
   "outputs": [],
   "source": []
  }
 ],
 "metadata": {
  "kernelspec": {
   "display_name": "Python 3",
   "language": "python",
   "name": "python3"
  },
  "language_info": {
   "codemirror_mode": {
    "name": "ipython",
    "version": 3
   },
   "file_extension": ".py",
   "mimetype": "text/x-python",
   "name": "python",
   "nbconvert_exporter": "python",
   "pygments_lexer": "ipython3",
   "version": "3.6.5"
  }
 },
 "nbformat": 4,
 "nbformat_minor": 2
}
